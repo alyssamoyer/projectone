{
 "cells": [
  {
   "cell_type": "code",
   "execution_count": 1,
   "metadata": {},
   "outputs": [],
   "source": [
    "import pandas as pd\n",
    "import numpy as np\n",
    "import time"
   ]
  },
  {
   "cell_type": "code",
   "execution_count": 5,
   "metadata": {},
   "outputs": [
    {
     "data": {
      "text/plain": [
       "States    object\n",
       "2015       int64\n",
       "2016       int64\n",
       "2017       int64\n",
       "2018       int64\n",
       "dtype: object"
      ]
     },
     "execution_count": 5,
     "metadata": {},
     "output_type": "execute_result"
    }
   ],
   "source": [
    "#Population Data to DataFrame (named test_total_population_data)\n",
    "file = \"Resources/ALL/data/population2010-2019.csv\"\n",
    "total_population_data_file_all = pd.read_csv(file)\n",
    "total_population_data_file = total_population_data_file_all.copy()\n",
    "total_population_data_file = total_population_data_file.iloc[5:,4:17]\n",
    "total_population_data_file = total_population_data_file.reset_index()\n",
    "total_population_data_file = total_population_data_file.iloc[:,1:]\n",
    "total_population_data_file = total_population_data_file.rename(columns={\"NAME\":\"States\"})\n",
    "years = [\"States\"]\n",
    "for year in range(2015,2019,1):\n",
    "    total_population_data_file = total_population_data_file.rename(columns={f\"POPESTIMATE{year}\":f\"{year}\"})\n",
    "    years.append(str(year))\n",
    "total_population_data_file = total_population_data_file.loc[:,years]\n",
    "total_population_data_file = total_population_data_file.iloc[:51]\n",
    "total_population_data_file\n",
    "total_population_data_file.dtypes"
   ]
  },
  {
   "cell_type": "code",
   "execution_count": 6,
   "metadata": {},
   "outputs": [
    {
     "data": {
      "text/plain": [
       "States     object\n",
       "2015      float64\n",
       "2016      float64\n",
       "2017      float64\n",
       "2018      float64\n",
       "dtype: object"
      ]
     },
     "execution_count": 6,
     "metadata": {},
     "output_type": "execute_result"
    }
   ],
   "source": [
    "#GDP Data to DataFrame (note:measure in millions of dollars)\n",
    "file = \"Resources/ALL/data/gdp2010-2019.csv\"\n",
    "gdp_data_file_all = pd.read_csv(file)\n",
    "gdp_data_file = gdp_data_file_all.copy()\n",
    "num_of_indexes = int(gdp_data_file[\"GeoName\"].count())\n",
    "indexes = []\n",
    "gdp_data_file = gdp_data_file.rename(columns={\"GeoName\":\"States\"})\n",
    "for index in range(num_of_indexes):\n",
    "    if gdp_data_file.loc[index,\"Description\"] == \"All industry total\":\n",
    "        indexes.append(index)\n",
    "gdp_data_file = gdp_data_file.iloc[indexes]\n",
    "gdp_data_file = gdp_data_file.iloc[:52]\n",
    "gdp_data_file = gdp_data_file.reset_index()\n",
    "gdp_data_file = gdp_data_file.loc[:,years]\n",
    "for year in years:\n",
    "    try:\n",
    "        gdp_data_file[year] = gdp_data_file[year].astype(np.float64)\n",
    "    except ValueError:\n",
    "        None\n",
    "gdp_data_file\n",
    "gdp_data_file.dtypes"
   ]
  },
  {
   "cell_type": "code",
   "execution_count": 7,
   "metadata": {},
   "outputs": [
    {
     "data": {
      "text/plain": [
       "States     object\n",
       "2015      float64\n",
       "2016      float64\n",
       "2017      float64\n",
       "2018      float64\n",
       "dtype: object"
      ]
     },
     "execution_count": 7,
     "metadata": {},
     "output_type": "execute_result"
    }
   ],
   "source": [
    "#GDP per capita Data to DataFrame\n",
    "gdppercapita_data_file = gdp_data_file.copy()\n",
    "gdppercapita_data_file = gdppercapita_data_file.merge(total_population_data_file, on=\"States\")\n",
    "years_only = years[1:]\n",
    "for year in years_only:\n",
    "    gdppercapita_data_file[year] = gdppercapita_data_file[f\"{year}_x\"]/gdppercapita_data_file[f\"{year}_y\"]\n",
    "gdppercapita_data_file = gdppercapita_data_file[years]\n",
    "gdppercapita_data_file\n",
    "gdppercapita_data_file.dtypes"
   ]
  },
  {
   "cell_type": "code",
   "execution_count": 120,
   "metadata": {},
   "outputs": [
    {
     "data": {
      "text/plain": [
       "States     object\n",
       "2015      float64\n",
       "2016      float64\n",
       "2017      float64\n",
       "2018      float64\n",
       "dtype: object"
      ]
     },
     "execution_count": 120,
     "metadata": {},
     "output_type": "execute_result"
    }
   ],
   "source": [
    "#GDP Data to DataFrame (note:measure in dollars)\n",
    "file = \"Resources/ALL/data/personalconsumptionpercapita1997_2018.csv\"\n",
    "personalconsumptionpercapita_data_file_all = pd.read_csv(file)\n",
    "personalconsumptionpercapita_data_file = personalconsumptionpercapita_data_file_all.copy()\n",
    "num_of_indexes = int(personalconsumptionpercapita_data_file[\"GeoName\"].count())\n",
    "indexes = []\n",
    "personalconsumptionpercapita_data_file = personalconsumptionpercapita_data_file.rename(columns={\"GeoName\":\"States\"})\n",
    "for index in range(num_of_indexes):\n",
    "    if personalconsumptionpercapita_data_file.loc[index,\"Description\"] == \"Per capita personal consumption expenditures\":\n",
    "        indexes.append(index)\n",
    "personalconsumptionpercapita_data_file = personalconsumptionpercapita_data_file.iloc[indexes]\n",
    "personalconsumptionpercapita_data_file = personalconsumptionpercapita_data_file.reset_index()\n",
    "personalconsumptionpercapita_data_file = personalconsumptionpercapita_data_file.iloc[:52]\n",
    "personalconsumptionpercapita_data_file = personalconsumptionpercapita_data_file.loc[:,years]\n",
    "for year in years:\n",
    "    try:\n",
    "        gdp_data_file[year] = gdp_data_file[year].astype(np.float64)\n",
    "    except ValueError:\n",
    "        None\n",
    "personalconsumptionpercapita_data_file\n",
    "personalconsumptionpercapita_data_file.dtypes"
   ]
  },
  {
   "cell_type": "code",
   "execution_count": null,
   "metadata": {},
   "outputs": [],
   "source": [
    "#Median Income to DataFrame (note:measure in dollars)\n"
   ]
  },
  {
   "cell_type": "code",
   "execution_count": null,
   "metadata": {},
   "outputs": [],
   "source": []
  },
  {
   "cell_type": "code",
   "execution_count": null,
   "metadata": {},
   "outputs": [],
   "source": []
  }
 ],
 "metadata": {
  "kernelspec": {
   "display_name": "Python 3",
   "language": "python",
   "name": "python3"
  },
  "language_info": {
   "codemirror_mode": {
    "name": "ipython",
    "version": 3
   },
   "file_extension": ".py",
   "mimetype": "text/x-python",
   "name": "python",
   "nbconvert_exporter": "python",
   "pygments_lexer": "ipython3",
   "version": "3.7.4"
  }
 },
 "nbformat": 4,
 "nbformat_minor": 2
}
